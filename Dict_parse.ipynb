{
 "cells": [
  {
   "cell_type": "code",
   "execution_count": 5,
   "metadata": {},
   "outputs": [
    {
     "data": {
      "text/plain": [
       "'\\ndef other_dict_parse(keys_list: list, values_list: list) -> dict:\\n    temp = {key: value for key, value in zip(keys_list, values_list)}\\n    if len(keys_list) <= len(values_list):\\n        return temp\\n    else:\\n        for i in range(len(temp), len(keys_list)):\\n            temp[keys_list[i]] = None\\n        return temp\\n'"
      ]
     },
     "execution_count": 5,
     "metadata": {},
     "output_type": "execute_result"
    }
   ],
   "source": [
    "import numpy as np\n",
    "import pandas as pd\n",
    "from collections import Counter\n",
    "\n",
    "\n",
    "def dict_parse(keys_list: list, values_list: list) -> dict:\n",
    "    \"\"\"\n",
    "    Есть два списка разной длины. В первом содержатся ключи, а во втором —\n",
    "    значения. Напишите функцию, которая создает из этих ключей и значений словарь.\n",
    "    Если какому-то ключу не хватило значения, в словаре должно быть значение None.\n",
    "    Значения, которым не хватило ключей, нужно игнорировать.\n",
    "    :param keys_list: список, содержащий ключи\n",
    "    :param values_list: список, содержащий значения\n",
    "    :return: словарь, созданный на основе списка ключей и списка значений\n",
    "    \"\"\"\n",
    "    return {value: values_list[key] if key < len(values_list) else None for key, value in enumerate(keys_list)}\n",
    "\n",
    "\n",
    "def other_dict_parse(keys_list: list, values_list: list) -> dict:\n",
    "    if len(keys_list) <= len(values_list):\n",
    "        return {key: value for key, value in zip(keys_list, values_list)}\n",
    "    else:\n",
    "        return {**{key: value for key, value in zip(keys_list, values_list)},\n",
    "                **{i: None for i in keys_list[len(values_list):]}}\n",
    "\"\"\"\n",
    "def other_dict_parse(keys_list: list, values_list: list) -> dict:\n",
    "    temp = {key: value for key, value in zip(keys_list, values_list)}\n",
    "    if len(keys_list) <= len(values_list):\n",
    "        return temp\n",
    "    else:\n",
    "        for i in range(len(temp), len(keys_list)):\n",
    "            temp[keys_list[i]] = None\n",
    "        return temp\n",
    "\"\"\""
   ]
  },
  {
   "cell_type": "code",
   "execution_count": 7,
   "metadata": {},
   "outputs": [
    {
     "data": {
      "text/plain": [
       "\"\\n    Two-dimensional size-mutable, potentially heterogeneous tabular data\\n    structure with labeled axes (rows and columns). Arithmetic operations\\n    align on both row and column labels. Can be thought of as a dict-like\\n    container for Series objects. The primary pandas data structure.\\n\\n    Parameters\\n    ----------\\n    data : ndarray (structured or homogeneous), Iterable, dict, or DataFrame\\n        Dict can contain Series, arrays, constants, or list-like objects\\n\\n        .. versionchanged :: 0.23.0\\n           If data is a dict, argument order is maintained for Python 3.6\\n           and later.\\n\\n    index : Index or array-like\\n        Index to use for resulting frame. Will default to RangeIndex if\\n        no indexing information part of input data and no index provided\\n    columns : Index or array-like\\n        Column labels to use for resulting frame. Will default to\\n        RangeIndex (0, 1, 2, ..., n) if no column labels are provided\\n    dtype : dtype, default None\\n        Data type to force. Only a single dtype is allowed. If None, infer\\n    copy : boolean, default False\\n        Copy data from inputs. Only affects DataFrame / 2d ndarray input\\n\\n    See Also\\n    --------\\n    DataFrame.from_records : Constructor from tuples, also record arrays.\\n    DataFrame.from_dict : From dicts of Series, arrays, or dicts.\\n    DataFrame.from_items : From sequence of (key, value) pairs\\n        pandas.read_csv, pandas.read_table, pandas.read_clipboard.\\n\\n    Examples\\n    --------\\n    Constructing DataFrame from a dictionary.\\n\\n    >>> d = {'col1': [1, 2], 'col2': [3, 4]}\\n    >>> df = pd.DataFrame(data=d)\\n    >>> df\\n       col1  col2\\n    0     1     3\\n    1     2     4\\n\\n    Notice that the inferred dtype is int64.\\n\\n    >>> df.dtypes\\n    col1    int64\\n    col2    int64\\n    dtype: object\\n\\n    To enforce a single dtype:\\n\\n    >>> df = pd.DataFrame(data=d, dtype=np.int8)\\n    >>> df.dtypes\\n    col1    int8\\n    col2    int8\\n    dtype: object\\n\\n    Constructing DataFrame from numpy ndarray:\\n\\n    >>> df2 = pd.DataFrame(np.array([[1, 2, 3], [4, 5, 6], [7, 8, 9]]),\\n    ...                    columns=['a', 'b', 'c'])\\n    >>> df2\\n       a  b  c\\n    0  1  2  3\\n    1  4  5  6\\n    2  7  8  9\\n    \""
      ]
     },
     "execution_count": 7,
     "metadata": {},
     "output_type": "execute_result"
    }
   ],
   "source": [
    "pd.DataFrame()"
   ]
  },
  {
   "cell_type": "code",
   "execution_count": 3,
   "metadata": {},
   "outputs": [],
   "source": [
    "def regular_count(sequence: str, not_summary: bool = True, *symbols: str) -> Counter():\n",
    "    \"\"\"\n",
    "    :param sequence: символьная последовательность без пробелов (исходные данные)\n",
    "    :param symbols: символы, на основе которых будет осуществляться поиск под-последовательностей\n",
    "    :param not_summary: True - считать количество элементов для каждой подпоследовательности \n",
    "    False считать только колличество элементов в подпоследовательности\n",
    "    :return: соотношение подпоследовательность(ключ) количество совпадений(значение) в виде словаря Counter\n",
    "    \"\"\"\n",
    "    if not_summary:\n",
    "        return Counter(re.findall('|'.join([f'[{s}]*[{s}]' for s in symbols]), sequence))\n",
    "    else:\n",
    "        return Counter([len(seq) for seq in re.findall('|'.join([f'[{s}]*[{s}]' for s in symbols]), sequence)])"
   ]
  },
  {
   "cell_type": "code",
   "execution_count": null,
   "metadata": {},
   "outputs": [],
   "source": [
    "regular_count()"
   ]
  },
  {
   "cell_type": "code",
   "execution_count": 68,
   "metadata": {},
   "outputs": [],
   "source": [
    "if __name__ == '__main__':\n",
    "    dogs = np.random.randint(0, 9, 10000000)\n",
    "    rating = np.random.randint(0, 9, 10000000)\n",
    "    # dogs = [\"Бигль\", \"Овчарка\", \"Корг\", \"Джек расел\"]\n",
    "    # rating = [43, 51, 32]"
   ]
  },
  {
   "cell_type": "code",
   "execution_count": 75,
   "metadata": {},
   "outputs": [
    {
     "name": "stdout",
     "output_type": "stream",
     "text": [
      "2.74 s ± 22 ms per loop (mean ± std. dev. of 7 runs, 1 loop each)\n"
     ]
    }
   ],
   "source": [
    "%timeit result = dict_parse(dogs, rating)"
   ]
  },
  {
   "cell_type": "code",
   "execution_count": 76,
   "metadata": {},
   "outputs": [
    {
     "name": "stdout",
     "output_type": "stream",
     "text": [
      "1.35 s ± 3.91 ms per loop (mean ± std. dev. of 7 runs, 1 loop each)\n"
     ]
    }
   ],
   "source": [
    "%timeit result = other_dict_parse(dogs, rating)"
   ]
  },
  {
   "cell_type": "code",
   "execution_count": 74,
   "metadata": {},
   "outputs": [
    {
     "name": "stdout",
     "output_type": "stream",
     "text": [
      "2.76 s ± 35.9 ms per loop (mean ± std. dev. of 7 runs, 1 loop each)\n"
     ]
    }
   ],
   "source": []
  },
  {
   "cell_type": "code",
   "execution_count": null,
   "metadata": {},
   "outputs": [],
   "source": []
  }
 ],
 "metadata": {
  "kernelspec": {
   "display_name": "Python 3",
   "language": "python",
   "name": "python3"
  },
  "language_info": {
   "codemirror_mode": {
    "name": "ipython",
    "version": 3
   },
   "file_extension": ".py",
   "mimetype": "text/x-python",
   "name": "python",
   "nbconvert_exporter": "python",
   "pygments_lexer": "ipython3",
   "version": "3.7.3"
  }
 },
 "nbformat": 4,
 "nbformat_minor": 2
}
