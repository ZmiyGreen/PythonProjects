{
 "cells": [
  {
   "cell_type": "code",
   "execution_count": 61,
   "metadata": {},
   "outputs": [
    {
     "data": {
      "text/plain": [
       "'\\ndef other_dict_parse(keys_list: list, values_list: list) -> dict:\\n    temp = {key: value for key, value in zip(keys_list, values_list)}\\n    if len(keys_list) <= len(values_list):\\n        return temp\\n    else:\\n        for i in range(len(temp), len(keys_list)):\\n            temp[keys_list[i]] = None\\n        return temp\\n'"
      ]
     },
     "execution_count": 61,
     "metadata": {},
     "output_type": "execute_result"
    }
   ],
   "source": [
    "import numpy as np\n",
    "\n",
    "\n",
    "def dict_parse(keys_list: list, values_list: list) -> dict:\n",
    "    \"\"\"\n",
    "    Есть два списка разной длины. В первом содержатся ключи, а во втором —\n",
    "    значения. Напишите функцию, которая создает из этих ключей и значений словарь.\n",
    "    Если какому-то ключу не хватило значения, в словаре должно быть значение None.\n",
    "    Значения, которым не хватило ключей, нужно игнорировать.\n",
    "    :param keys_list: список, содержащий ключи\n",
    "    :param values_list: список, содержащий значения\n",
    "    :return: словарь, созданный на основе списка ключей и списка значений\n",
    "    \"\"\"\n",
    "    return {value: values_list[key] if key < len(values_list) else None for key, value in enumerate(keys_list)}\n",
    "\n",
    "\n",
    "def other_dict_parse(keys_list: list, values_list: list) -> dict:\n",
    "    if len(keys_list) <= len(values_list):\n",
    "        return {key: value for key, value in zip(keys_list, values_list)}\n",
    "    else:\n",
    "        return {**{key: value for key, value in zip(keys_list, values_list)},\n",
    "                **{i: None for i in keys_list[len(values_list):]}}\n",
    "\"\"\"\n",
    "def other_dict_parse(keys_list: list, values_list: list) -> dict:\n",
    "    temp = {key: value for key, value in zip(keys_list, values_list)}\n",
    "    if len(keys_list) <= len(values_list):\n",
    "        return temp\n",
    "    else:\n",
    "        for i in range(len(temp), len(keys_list)):\n",
    "            temp[keys_list[i]] = None\n",
    "        return temp\n",
    "\"\"\""
   ]
  },
  {
   "cell_type": "code",
   "execution_count": 68,
   "metadata": {},
   "outputs": [],
   "source": [
    "if __name__ == '__main__':\n",
    "    dogs = np.random.randint(0, 9, 10000000)\n",
    "    rating = np.random.randint(0, 9, 10000000)\n",
    "    # dogs = [\"Бигль\", \"Овчарка\", \"Корг\", \"Джек расел\"]\n",
    "    # rating = [43, 51, 32]"
   ]
  },
  {
   "cell_type": "code",
   "execution_count": 75,
   "metadata": {},
   "outputs": [
    {
     "name": "stdout",
     "output_type": "stream",
     "text": [
      "2.74 s ± 22 ms per loop (mean ± std. dev. of 7 runs, 1 loop each)\n"
     ]
    }
   ],
   "source": [
    "%timeit result = dict_parse(dogs, rating)"
   ]
  },
  {
   "cell_type": "code",
   "execution_count": 76,
   "metadata": {},
   "outputs": [
    {
     "name": "stdout",
     "output_type": "stream",
     "text": [
      "1.35 s ± 3.91 ms per loop (mean ± std. dev. of 7 runs, 1 loop each)\n"
     ]
    }
   ],
   "source": [
    "%timeit result = other_dict_parse(dogs, rating)"
   ]
  },
  {
   "cell_type": "code",
   "execution_count": 74,
   "metadata": {},
   "outputs": [
    {
     "name": "stdout",
     "output_type": "stream",
     "text": [
      "2.76 s ± 35.9 ms per loop (mean ± std. dev. of 7 runs, 1 loop each)\n"
     ]
    }
   ],
   "source": []
  },
  {
   "cell_type": "code",
   "execution_count": null,
   "metadata": {},
   "outputs": [],
   "source": []
  }
 ],
 "metadata": {
  "kernelspec": {
   "display_name": "Python 3",
   "language": "python",
   "name": "python3"
  },
  "language_info": {
   "codemirror_mode": {
    "name": "ipython",
    "version": 3
   },
   "file_extension": ".py",
   "mimetype": "text/x-python",
   "name": "python",
   "nbconvert_exporter": "python",
   "pygments_lexer": "ipython3",
   "version": "3.7.3"
  }
 },
 "nbformat": 4,
 "nbformat_minor": 2
}
